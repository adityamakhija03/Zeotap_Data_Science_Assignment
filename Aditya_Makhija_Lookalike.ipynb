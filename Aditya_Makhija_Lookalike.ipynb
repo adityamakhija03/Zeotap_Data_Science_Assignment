{
  "nbformat": 4,
  "nbformat_minor": 0,
  "metadata": {
    "colab": {
      "provenance": []
    },
    "kernelspec": {
      "name": "python3",
      "display_name": "Python 3"
    },
    "language_info": {
      "name": "python"
    }
  },
  "cells": [
    {
      "cell_type": "markdown",
      "source": [
        "**Importing libraries**"
      ],
      "metadata": {
        "id": "rqOQmJUOcFx9"
      }
    },
    {
      "cell_type": "code",
      "source": [
        "import pandas as pd\n",
        "from sklearn.preprocessing import StandardScaler\n",
        "from sklearn.metrics.pairwise import cosine_similarity"
      ],
      "metadata": {
        "id": "7bDfxgXHcLWR"
      },
      "execution_count": 22,
      "outputs": []
    },
    {
      "cell_type": "markdown",
      "source": [
        "**Loading the datasets**"
      ],
      "metadata": {
        "id": "L2lrtHCMcOWr"
      }
    },
    {
      "cell_type": "code",
      "source": [
        "customers = pd.read_csv(\"Customers.csv\")\n",
        "products = pd.read_csv(\"Products.csv\")\n",
        "transactions = pd.read_csv(\"Transactions.csv\")"
      ],
      "metadata": {
        "id": "p6IkIFercQKB"
      },
      "execution_count": 23,
      "outputs": []
    },
    {
      "cell_type": "markdown",
      "source": [
        "# Merge Datasets and Validate Data"
      ],
      "metadata": {
        "id": "G39ryDNFcUxE"
      }
    },
    {
      "cell_type": "code",
      "source": [
        "# Merge Transactions with Products\n",
        "if \"ProductID\" not in transactions.columns or \"ProductID\" not in products.columns:\n",
        "    raise KeyError(\"ProductID column is missing in one of the datasets.\")\n",
        "\n",
        "transactions = transactions.merge(products, on=\"ProductID\", how=\"left\")\n",
        "\n",
        "if \"Price\" not in transactions.columns:\n",
        "    transactions[\"Price\"] = 0"
      ],
      "metadata": {
        "id": "-E4TBtXIcZsE"
      },
      "execution_count": 24,
      "outputs": []
    },
    {
      "cell_type": "code",
      "source": [
        "# Merge Transactions with Customers\n",
        "customer_transactions = transactions.groupby(\"CustomerID\").agg({\n",
        "    \"Category\": lambda x: \" \".join(x),  # Combine product categories\n",
        "    \"TotalValue\": \"sum\",                # Total spending\n",
        "    \"TransactionID\": \"count\"           # Transaction count\n",
        "}).reset_index()"
      ],
      "metadata": {
        "id": "wtrscjn8ckU2"
      },
      "execution_count": 25,
      "outputs": []
    },
    {
      "cell_type": "code",
      "source": [
        "#  Enrich Customer Data\n",
        "customer_data = customers.merge(customer_transactions, on=\"CustomerID\", how=\"left\").fillna({\n",
        "    \"Category\": \"\",\n",
        "    \"TotalValue\": 0,\n",
        "    \"TransactionID\": 0\n",
        "})"
      ],
      "metadata": {
        "id": "fDWUm9JEcoVT"
      },
      "execution_count": 27,
      "outputs": []
    },
    {
      "cell_type": "markdown",
      "source": [
        "# Feature Engineering"
      ],
      "metadata": {
        "id": "rISdncNDczRy"
      }
    },
    {
      "cell_type": "code",
      "source": [
        "category_encoded = customer_data[\"Category\"].str.get_dummies(sep=\" \")\n",
        "region_encoded = pd.get_dummies(customer_data[\"Region\"], prefix=\"region\")"
      ],
      "metadata": {
        "id": "zIf8cB_ccufa"
      },
      "execution_count": 28,
      "outputs": []
    },
    {
      "cell_type": "code",
      "source": [
        "# Combine features\n",
        "features = pd.concat([\n",
        "    customer_data[[\"TotalValue\", \"TransactionID\"]],\n",
        "    category_encoded,\n",
        "    region_encoded\n",
        "], axis=1)"
      ],
      "metadata": {
        "id": "CDyTFDWXc6zm"
      },
      "execution_count": 30,
      "outputs": []
    },
    {
      "cell_type": "code",
      "source": [
        "# Normalize numerical features\n",
        "scaler = StandardScaler()\n",
        "features[[\"TotalValue\", \"TransactionID\"]] = scaler.fit_transform(features[[\"TotalValue\", \"TransactionID\"]])"
      ],
      "metadata": {
        "id": "4x70xSdjdAtA"
      },
      "execution_count": 31,
      "outputs": []
    },
    {
      "cell_type": "markdown",
      "source": [
        "**Cosine Similarity**"
      ],
      "metadata": {
        "id": "S3my-iEQdGPQ"
      }
    },
    {
      "cell_type": "code",
      "source": [
        "similarity_matrix = cosine_similarity(features)\n",
        "similarity_df = pd.DataFrame(similarity_matrix, index=customer_data[\"CustomerID\"], columns=customer_data[\"CustomerID\"])"
      ],
      "metadata": {
        "id": "trsrSpN0dJQH"
      },
      "execution_count": 32,
      "outputs": []
    },
    {
      "cell_type": "markdown",
      "source": [
        "**Generate Lookalike Recommendations for First 20 Customers**"
      ],
      "metadata": {
        "id": "MH5Dbl_FdOVY"
      }
    },
    {
      "cell_type": "code",
      "source": [
        "lookalike_results = {}\n",
        "for customer_id in customers[\"CustomerID\"][:20]:\n",
        "    similar_customers = similarity_df[customer_id].sort_values(ascending=False)[1:4]  # Top 3 excluding self\n",
        "    lookalike_results[customer_id] = [(sim_cust, round(score, 4)) for sim_cust, score in similar_customers.items()]\n"
      ],
      "metadata": {
        "id": "JEYdS52XdLkf"
      },
      "execution_count": 33,
      "outputs": []
    },
    {
      "cell_type": "markdown",
      "source": [
        "**Save Lookalike Results to CSV**"
      ],
      "metadata": {
        "id": "DklzwGMVdZz0"
      }
    },
    {
      "cell_type": "code",
      "source": [
        "lookalike_data = []\n",
        "for cust_id, lookalikes in lookalike_results.items():\n",
        "    lookalike_data.append({\n",
        "        \"CustomerID\": cust_id,\n",
        "        \"Lookalikes\": str(lookalikes)  # Map<cust_id, List<cust_id, score>>\n",
        "    })"
      ],
      "metadata": {
        "id": "bjmFPMGGdgMW"
      },
      "execution_count": 34,
      "outputs": []
    },
    {
      "cell_type": "markdown",
      "source": [
        "# Final Ouput"
      ],
      "metadata": {
        "id": "ZKQ-9x29djXJ"
      }
    },
    {
      "cell_type": "code",
      "source": [
        "lookalike_df = pd.DataFrame(lookalike_data)\n",
        "output_path = \"Lookalike.csv\"\n",
        "lookalike_df.to_csv(output_path, index=False)\n",
        "\n",
        "# Final Output\n",
        "print(f\"{output_path} has been generated successfully.\")\n",
        "print(\"Sample Recommendations:\")\n",
        "print(lookalike_df.head(10))\n"
      ],
      "metadata": {
        "colab": {
          "base_uri": "https://localhost:8080/"
        },
        "id": "s_birR9jdqFL",
        "outputId": "42b793aa-47d5-4024-f285-6fb232252c5e"
      },
      "execution_count": 35,
      "outputs": [
        {
          "output_type": "stream",
          "name": "stdout",
          "text": [
            "Lookalike.csv has been generated successfully.\n",
            "Sample Recommendations:\n",
            "  CustomerID                                         Lookalikes\n",
            "0      C0001  [('C0152', 1.0), ('C0174', 0.9938), ('C0085', ...\n",
            "1      C0002  [('C0159', 0.9799), ('C0134', 0.9595), ('C0043...\n",
            "2      C0003  [('C0031', 0.9871), ('C0129', 0.981), ('C0158'...\n",
            "3      C0004  [('C0012', 0.9889), ('C0102', 0.9403), ('C0113...\n",
            "4      C0005  [('C0007', 0.9922), ('C0140', 0.987), ('C0177'...\n",
            "5      C0006  [('C0187', 0.9771), ('C0048', 0.8925), ('C0076...\n",
            "6      C0007  [('C0005', 0.9922), ('C0140', 0.9786), ('C0177...\n",
            "7      C0008  [('C0109', 0.9831), ('C0098', 0.9538), ('C0194...\n",
            "8      C0009  [('C0198', 0.9866), ('C0132', 0.785), ('C0074'...\n",
            "9      C0010  [('C0132', 0.9774), ('C0061', 0.9699), ('C0074...\n"
          ]
        }
      ]
    }
  ]
}